{
 "cells": [
  {
   "cell_type": "code",
   "execution_count": 1,
   "metadata": {},
   "outputs": [],
   "source": [
    "from docx import Document\n",
    "import CoverLetter as cl\n",
    "document= Document('CL_Template.docx')\n",
    "#Arguments are Document, position, company, classes, and job_description"
   ]
  },
  {
   "cell_type": "code",
   "execution_count": 2,
   "metadata": {},
   "outputs": [],
   "source": [
    "finance=['Advanced Corporate Finance,',' Financial Statement Analysis and Valuations,', ' and Big Data Analytics']\n",
    "marketing=['Consumer Behavior,',' Strategic Marketing Communications,', ' and Big Data and Marketing Analytics']\n",
    "economics=['International Macroeconomics,',' International Trade,', ' and International Finance']\n",
    "data=['Big Data Analytics,', ' Financial Trading Strategies,', ' and Quantitative Methods in Economics']\n",
    "ib=['Advanced Corporate Finance,',' Investments,',' and Capital Market Theory']\n",
    "trading=['Financial Trading Strategies,', ' and Investments']\n",
    "\n",
    "def to_string(s):  \n",
    "    str1 = \"\"     \n",
    "    for ele in s:  \n",
    "        str1 += ele     \n",
    "    return str1 "
   ]
  },
  {
   "cell_type": "code",
   "execution_count": 3,
   "metadata": {},
   "outputs": [
    {
     "data": {
      "application/vnd.jupyter.widget-view+json": {
       "model_id": "74e6dc84fc3446a7b2d16815e4ea16b9",
       "version_major": 2,
       "version_minor": 0
      },
      "text/plain": [
       "HBox(children=(FloatProgress(value=0.0, max=1.0), HTML(value='')))"
      ]
     },
     "metadata": {},
     "output_type": "display_data"
    }
   ],
   "source": [
    "cl.cover_letter(document, position, company, to_string(classes), job description)"
   ]
  },
  {
   "cell_type": "code",
   "execution_count": null,
   "metadata": {},
   "outputs": [],
   "source": []
  }
 ],
 "metadata": {
  "kernelspec": {
   "display_name": "Python 3",
   "language": "python",
   "name": "python3"
  },
  "language_info": {
   "codemirror_mode": {
    "name": "ipython",
    "version": 3
   },
   "file_extension": ".py",
   "mimetype": "text/x-python",
   "name": "python",
   "nbconvert_exporter": "python",
   "pygments_lexer": "ipython3",
   "version": "3.7.4"
  }
 },
 "nbformat": 4,
 "nbformat_minor": 4
}
